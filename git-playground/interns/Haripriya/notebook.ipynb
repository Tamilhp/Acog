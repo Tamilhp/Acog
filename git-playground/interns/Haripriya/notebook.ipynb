{
 "cells": [
  {
   "cell_type": "markdown",
   "metadata": {},
   "source": [
    "DNA - Counting DNA Nucleotides"
   ]
  },
  {
   "cell_type": "code",
   "execution_count": 76,
   "metadata": {},
   "outputs": [
    {
     "name": "stdout",
     "output_type": "stream",
     "text": [
      "0.0001220703125\n"
     ]
    }
   ],
   "source": [
    "import time\n",
    "from collections import Counter\n",
    "\n",
    "def countDNANucleotides(s: str = \"\") -> str:\n",
    "    if not s: return \"\"\n",
    "    s = s.upper()\n",
    "    return f\"{s.count('A')} {s.count('C')} {s.count('G')} {s.count('T')}\"\n",
    "\n",
    "def countDNANucleotides2(s: str = \"\") -> str:\n",
    "    res = Counter(s)\n",
    "    return f\"{res['A']} {res['C']} {res['G']} {res['T']}\"\n",
    "\n",
    "def countDNANucleotides3(s: str = \"\") -> str:\n",
    "    res = map(lambda x: s.count(x), ['A','C','G','T'])\n",
    "    return \" \".join(map(str, list(res)))\n",
    "begin=time.time()\n",
    "countDNANucleotides3(\"GAGGTGAGCTACCGGGTATTAGCATTCCCATCGCGTTAGTTTAGTCAAAAGTCACGTCGCAAGGAGTTACAGCGGTAAACGAGTCGTCCCATACTCACTGAACCTGGAGAGAGTTAAGTTGTCACTTAGCTAACCTTTAGAAAAATCTCTTCGCCGCCCCGGATATTGAAGGCGCCAGGCCACATATTGGGGGTCCACTGCTATTGCATACTCTAACTACGTACTATTCCCTCGTAGCCTTGTTGGTACGCCCTGTCGTATCGTTTGAGTTTCCACCAGCCCCTTCGCGGACGTACCCGATATGTCACAGTAGAGCCTGTCTCTCCCTCGTAGGTACTGGAGCAAGAGTACATTGACCCGGAAATTACTGGTCAATGGCGCTTTCTCCGTCCGTAGCACTAGCGCAGACTGTAATACTATCCGACACTCTCAATTAAGATGGGAGAAACAGCCTGAAAATGGTTCGCTAGGGAAACGGTCGCTGATACTGAAACTGGTAGACATGCGGGCATCCCTCTTCTCATCTACATTCGATGTAGTGGAGCCGACTGATTGGCAATACTACACGTGTGGTCCCAGGACGTCTCGTTACACTTTGTACATCTGGATGGGCGAGCGTGCCAGCAACGAGAAATCATGTCCGCCCTCGGGGACCCAGGTGCTTACACACCCGACACTGAGGGACACTCCCACCCTCGATCGCGGGGACCTTCCAAGAGCCGGTGAAGGGGCTCGTCGATTCTCTTTTAAACACAGGGTATCAGGGTAGGCAATTATAGATCCGCCTTGTTCCTGTCCACGGCCCGGGTAGCGCTGCGCTCTATCACTGGACACGGCTGAGACGGCCGGGACGGTTGATAGCAACATCGCG\")\n",
    "end=time.time()\n",
    "print(end-begin)"
   ]
  },
  {
   "cell_type": "code",
   "execution_count": null,
   "metadata": {},
   "outputs": [],
   "source": []
  },
  {
   "cell_type": "markdown",
   "metadata": {},
   "source": [
    "Transcribing DNA into RNA"
   ]
  },
  {
   "cell_type": "code",
   "execution_count": 16,
   "metadata": {},
   "outputs": [
    {
     "data": {
      "text/plain": [
       "'UCUCCCAACCCGCGACAUGUUGCACUUGAUAACCUCAAUAACGGCUACAUUGACGGGGGUGUUGCUUAGUGAAAUUGUACAGAAUACAGUCAUAGCGAGUUAGAAAUCGAAACUGCUAGCUGACGCUCUCCUCAUUAAAGGAUAGUCUCCUGGGCCAGUCUUCCAAUCCAGAAGUAUCCGAGACUCACUAUGUGCUCAUUACGUGCCUGCGACUUCGGAAUGACCCUGAAAAGGCAUACCCGUCGAUAUGAGUCAUGGCCAUCCUUAUAAAUAGAGUAUUGGGGGUAAGGUCUUGGUCUUCAAGGAUUUAUAGUCCGGGACUGGGCCAUACCCGGAGGGGAUGAUUUACAAAGCGCCCAGGGGACUAUUUCGAUUACCGCACCAUGCCUGGCUGGGUUAUAUAAACUAAUAACAAACGGCGCCCUAUAUAGUACACUGCUGCCGCGGUUUAAAUGUGGAACGACUAGGAGGCUUAAUGUUGCAGUUCGAUUUUAUUCUUCGAAGAGAUGCUACGCCGCUAAUGCAGCGGUAAACGACAUCACCGAGUAAGCCGAUCUGAAAAGUGUAUUGCGAAUAUUGUGAGGUUAAGGAUAAUACUGUCUGAGCAAGCCGGUCAGUAGGUCGUGUCCCUCUAAUACCAGCGUCAAUCGGACGCAUGUUGAUAAACACGCAGCAAGCCACUGGAUGAAGCGUGAUGUGUGAGAGACCGGAUAGAGAGCGUCGGAUGACGCGCUCGCCGUAGCCUAUCGGGGUGUAGGUAUGGGUGGGACCUCGUGGCAAAGCUCAACCGCCGCGCGAAAAGGCACAUCAGAGACUAAGCGUAUUGUGAACUGCGUCGCAUGUGUUUGUUGGAACCGCGUAAUCUCCGAAUUCUUCAACAAAUCACUCUGGCUCGAGCGCACACGCGGUUGU'"
      ]
     },
     "execution_count": 16,
     "metadata": {},
     "output_type": "execute_result"
    }
   ],
   "source": [
    "def transcribeDNA(t: str = \"\") -> str:\n",
    "    if not t: return \"\"\n",
    "    t = t.upper()\n",
    "    return t.replace(\"T\", \"U\")\n",
    "\n",
    "transcribeDNA(\"TCTCCCAACCCGCGACATGTTGCACTTGATAACCTCAATAACGGCTACATTGACGGGGGTGTTGCTTAGTGAAATTGTACAGAATACAGTCATAGCGAGTTAGAAATCGAAACTGCTAGCTGACGCTCTCCTCATTAAAGGATAGTCTCCTGGGCCAGTCTTCCAATCCAGAAGTATCCGAGACTCACTATGTGCTCATTACGTGCCTGCGACTTCGGAATGACCCTGAAAAGGCATACCCGTCGATATGAGTCATGGCCATCCTTATAAATAGAGTATTGGGGGTAAGGTCTTGGTCTTCAAGGATTTATAGTCCGGGACTGGGCCATACCCGGAGGGGATGATTTACAAAGCGCCCAGGGGACTATTTCGATTACCGCACCATGCCTGGCTGGGTTATATAAACTAATAACAAACGGCGCCCTATATAGTACACTGCTGCCGCGGTTTAAATGTGGAACGACTAGGAGGCTTAATGTTGCAGTTCGATTTTATTCTTCGAAGAGATGCTACGCCGCTAATGCAGCGGTAAACGACATCACCGAGTAAGCCGATCTGAAAAGTGTATTGCGAATATTGTGAGGTTAAGGATAATACTGTCTGAGCAAGCCGGTCAGTAGGTCGTGTCCCTCTAATACCAGCGTCAATCGGACGCATGTTGATAAACACGCAGCAAGCCACTGGATGAAGCGTGATGTGTGAGAGACCGGATAGAGAGCGTCGGATGACGCGCTCGCCGTAGCCTATCGGGGTGTAGGTATGGGTGGGACCTCGTGGCAAAGCTCAACCGCCGCGCGAAAAGGCACATCAGAGACTAAGCGTATTGTGAACTGCGTCGCATGTGTTTGTTGGAACCGCGTAATCTCCGAATTCTTCAACAAATCACTCTGGCTCGAGCGCACACGCGGTTGT\")"
   ]
  },
  {
   "cell_type": "markdown",
   "metadata": {},
   "source": [
    "Complementing a strand of DNA"
   ]
  },
  {
   "cell_type": "code",
   "execution_count": 17,
   "metadata": {},
   "outputs": [
    {
     "data": {
      "text/plain": [
       "'GTGGCGTGGTGTCCTGGTTATGTAGGAGTGTTGTGATCTGCGCCACAAGCATGTATCAACCATCTTGCAGCTAATGTACTGGACTATCCGCGTAGCACCTCGACCCGCAGACAGCATGGCTGTAGGTCTATGATGCACAAGTACCTATGGTGGTGTGAATGAGGTACGATTATTTAAATACTATGAACACGTATGCTGACGACGCCGCATACGCGCATCCGATTCGCGACTTCACTGGAGTCAGTCCTATTAGGCTGGACCCGGCGCCTTTATCTTAATTTTATTGAGACGGCCTAAGCTTATTTGCCTTGCCGGTCGGTACAGCCCCATGGCGGGATAGTTTGGCACATTGGTCCCCTTGTAGCTAAGGTATTACGCCAACACGAATGTCACTTGCATACCAAACAGACCCACACTCAACTAAACGTCATGCGAGCACTGTGTGCGCCGGGTGTAAATCGTTGAAGGCTAACGCACCGTTACAGAGGCCTGAAAAGTTGCTCGGTTTGAAGTTCCCCCCTCCCAAGCACATCCGCCTGGGTCCGCAGCTCTTCCATAGGTAGCTGGGGGCCCTGTGGGAGTGTAAGAAATAGTCGTTCATGCAGGATGTCTATCCTCCATCGCTCCAGCTGTAGAGGGCGGGTTGAATGCGGCCTCTATCCAGATAGCGGCCCCCCACTCCCCTTACCGATCAGAAATCGGCGATCACATAGATCCCAGAGATAGACTGTTCACTCTTAGTGTGGGTGTACGCGCACCTATAGAGACGAATCCAGTACAATCTACCAAGGCTATTTCATATAGGCGACCTGGACAAAACATACCGAGCCATTCCCCTTCAAATATCCAACTAGATACGATACGTAGACATATACTAAGATTAGGGTGCACTATACCACCTATACTTCCTAAAGAAAAAGACACCCACGGGTGCTGGACGTTGGTCCCGGCTGTCTAAGTACCTGAGTACCGACTTCCGCGCCCGTCCATGA'"
      ]
     },
     "execution_count": 17,
     "metadata": {},
     "output_type": "execute_result"
    }
   ],
   "source": [
    "def complementDNAStrand(s: str = \"\") -> str:\n",
    "    if not s: return \"\"\n",
    "    s = s.upper()\n",
    "    rev_s = reversed(s)\n",
    "    s_c = \"\"\n",
    "    for i in rev_s:\n",
    "        if i == \"A\": s_c += \"T\"\n",
    "        elif i == \"T\": s_c += \"A\"\n",
    "        elif i == \"C\": s_c += \"G\"\n",
    "        elif i == \"G\": s_c += \"C\"\n",
    "    return s_c\n",
    "\n",
    "complementDNAStrand(\"TCATGGACGGGCGCGGAAGTCGGTACTCAGGTACTTAGACAGCCGGGACCAACGTCCAGCACCCGTGGGTGTCTTTTTCTTTAGGAAGTATAGGTGGTATAGTGCACCCTAATCTTAGTATATGTCTACGTATCGTATCTAGTTGGATATTTGAAGGGGAATGGCTCGGTATGTTTTGTCCAGGTCGCCTATATGAAATAGCCTTGGTAGATTGTACTGGATTCGTCTCTATAGGTGCGCGTACACCCACACTAAGAGTGAACAGTCTATCTCTGGGATCTATGTGATCGCCGATTTCTGATCGGTAAGGGGAGTGGGGGGCCGCTATCTGGATAGAGGCCGCATTCAACCCGCCCTCTACAGCTGGAGCGATGGAGGATAGACATCCTGCATGAACGACTATTTCTTACACTCCCACAGGGCCCCCAGCTACCTATGGAAGAGCTGCGGACCCAGGCGGATGTGCTTGGGAGGGGGGAACTTCAAACCGAGCAACTTTTCAGGCCTCTGTAACGGTGCGTTAGCCTTCAACGATTTACACCCGGCGCACACAGTGCTCGCATGACGTTTAGTTGAGTGTGGGTCTGTTTGGTATGCAAGTGACATTCGTGTTGGCGTAATACCTTAGCTACAAGGGGACCAATGTGCCAAACTATCCCGCCATGGGGCTGTACCGACCGGCAAGGCAAATAAGCTTAGGCCGTCTCAATAAAATTAAGATAAAGGCGCCGGGTCCAGCCTAATAGGACTGACTCCAGTGAAGTCGCGAATCGGATGCGCGTATGCGGCGTCGTCAGCATACGTGTTCATAGTATTTAAATAATCGTACCTCATTCACACCACCATAGGTACTTGTGCATCATAGACCTACAGCCATGCTGTCTGCGGGTCGAGGTGCTACGCGGATAGTCCAGTACATTAGCTGCAAGATGGTTGATACATGCTTGTGGCGCAGATCACAACACTCCTACATAACCAGGACACCACGCCAC\")"
   ]
  },
  {
   "cell_type": "markdown",
   "metadata": {},
   "source": [
    "Rabbits and Recurrence relation"
   ]
  },
  {
   "cell_type": "code",
   "execution_count": 26,
   "metadata": {},
   "outputs": [
    {
     "name": "stdout",
     "output_type": "stream",
     "text": [
      "1 0\n",
      "0 1\n",
      "3 1\n",
      "3 4\n"
     ]
    },
    {
     "data": {
      "text/plain": [
       "19"
      ]
     },
     "execution_count": 26,
     "metadata": {},
     "output_type": "execute_result"
    }
   ],
   "source": [
    "def recursiveFunc(n: int, k: int) -> int:\n",
    "    small_rabbits = 1\n",
    "    reproductive_rabbits = 0\n",
    "    for _ in range(1, n):\n",
    "        print(small_rabbits, reproductive_rabbits)\n",
    "        temp_var = small_rabbits\n",
    "        small_rabbits = reproductive_rabbits*k\n",
    "        reproductive_rabbits += temp_var\n",
    "    return small_rabbits+reproductive_rabbits\n",
    "recursiveFunc(5,3)"
   ]
  },
  {
   "cell_type": "code",
   "execution_count": 8,
   "metadata": {},
   "outputs": [
    {
     "ename": "TypeError",
     "evalue": "'str' object is not callable",
     "output_type": "error",
     "traceback": [
      "\u001b[0;31m---------------------------------------------------------------------------\u001b[0m",
      "\u001b[0;31mTypeError\u001b[0m                                 Traceback (most recent call last)",
      "\u001b[1;32m/Users/haripriya/PycharmProjects/pythonProject/notebook.ipynb Cell 9'\u001b[0m in \u001b[0;36m<cell line: 19>\u001b[0;34m()\u001b[0m\n\u001b[1;32m     <a href='vscode-notebook-cell:/Users/haripriya/PycharmProjects/pythonProject/notebook.ipynb#ch0000008?line=15'>16</a>\u001b[0m     \u001b[39mdef\u001b[39;00m \u001b[39m__init__\u001b[39m(\u001b[39mself\u001b[39m):\n\u001b[1;32m     <a href='vscode-notebook-cell:/Users/haripriya/PycharmProjects/pythonProject/notebook.ipynb#ch0000008?line=16'>17</a>\u001b[0m         \u001b[39mself\u001b[39m\u001b[39m.\u001b[39m_var \u001b[39m=\u001b[39m \u001b[39m5\u001b[39m\n\u001b[0;32m---> <a href='vscode-notebook-cell:/Users/haripriya/PycharmProjects/pythonProject/notebook.ipynb#ch0000008?line=18'>19</a>\u001b[0m cnfg()\n",
      "\u001b[0;31mTypeError\u001b[0m: 'str' object is not callable"
     ]
    }
   ],
   "source": [
    "def hello(cls):\n",
    "    return \"Hello\"\n",
    "\n",
    "def test(cls):\n",
    "\n",
    "    @hello\n",
    "    def wrapper():\n",
    "        return 5\n",
    "    \n",
    "    return wrapper\n",
    "\n",
    "\n",
    "@test\n",
    "class cnfg:\n",
    "\n",
    "    def __init__(self):\n",
    "        self._var = 5\n",
    "\n",
    "cnfg()\n",
    "# test()"
   ]
  },
  {
   "cell_type": "code",
   "execution_count": 75,
   "metadata": {},
   "outputs": [
    {
     "name": "stdout",
     "output_type": "stream",
     "text": [
      "Rosalind_7831\n",
      "51.712707182320436\n"
     ]
    }
   ],
   "source": [
    "def GCContent(fname: str = \"\") -> str:\n",
    "    with open(f\"{fname}\", \"r\") as f:\n",
    "        gc_data: dict = {}\n",
    "        k = \"\"\n",
    "        content = {\"total\": 0, \"gc\": 0}\n",
    "        for l in f.readlines():\n",
    "            if l[0] == \">\":\n",
    "                if k:\n",
    "                    gc_data[k] = (content[\"gc\"]/content[\"total\"])*100\n",
    "                    k = l.strip().replace(\">\",\"\")\n",
    "                elif not k:k = l.strip().replace(\">\",\"\")\n",
    "                # print(k)\n",
    "                content = {\"total\": 0, \"gc\": 0}\n",
    "            elif k:\n",
    "                res = list(map(lambda x: l.count(x), ['G','C']))\n",
    "                content[\"total\"] += len(l.strip())\n",
    "                content[\"gc\"] += res[0]+res[1]\n",
    "        gc_data[k] = (content[\"gc\"]/content[\"total\"])*100\n",
    "        maxval = max(gc_data, key=gc_data.get)\n",
    "        print(maxval)\n",
    "        print(gc_data[maxval])\n",
    "\n",
    "GCContent(\"rosalind_gc.txt\")"
   ]
  }
 ],
 "metadata": {
  "kernelspec": {
   "display_name": "Python 3.9.9 64-bit ('3.9.9')",
   "language": "python",
   "name": "python3"
  },
  "language_info": {
   "codemirror_mode": {
    "name": "ipython",
    "version": 3
   },
   "file_extension": ".py",
   "mimetype": "text/x-python",
   "name": "python",
   "nbconvert_exporter": "python",
   "pygments_lexer": "ipython3",
   "version": "3.9.9"
  },
  "orig_nbformat": 4,
  "vscode": {
   "interpreter": {
    "hash": "5370a47c2ba64117214a70857bed223794a7f7cbbb773e3cb4a959bad3bb0578"
   }
  }
 },
 "nbformat": 4,
 "nbformat_minor": 2
}
